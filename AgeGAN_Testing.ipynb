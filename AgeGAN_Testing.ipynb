{
  "nbformat": 4,
  "nbformat_minor": 0,
  "metadata": {
    "colab": {
      "name": "AgeGAN - Testing",
      "provenance": [],
      "toc_visible": true
    },
    "kernelspec": {
      "name": "python3",
      "display_name": "Python 3"
    },
    "accelerator": "GPU"
  },
  "cells": [
    {
      "cell_type": "markdown",
      "metadata": {
        "id": "2DmQOiZ427zj",
        "colab_type": "text"
      },
      "source": [
        "### **Generation and Manipulation of faces using Generative Adversarial Networks**\n",
        "*Project for CSCI 630 - Foundations of Artificial Intelligence* \n",
        "\n",
        "---\n",
        "\n",
        "\n",
        "*   [Aishwarya Rao](ar2711@rit.edu)\n",
        "*   [Rishabh Manish Sahlot](rs3655@rit.edu)\n",
        "*   [Anuj Kulkarni](ak8285@rit.edu)\n",
        "*   [Shweta Vijay Wahane](sw9910@rit.edu)\n",
        "\n",
        "The following notebook uses conditional  generative  ad-versarial  networks  to  generate  realistic  images  of faces based age."
      ]
    },
    {
      "cell_type": "code",
      "metadata": {
        "id": "mzQUwhaF23M_",
        "colab_type": "code",
        "colab": {}
      },
      "source": [
        "#Import statements\n",
        "from pydrive.auth import GoogleAuth\n",
        "from pydrive.drive import GoogleDrive\n",
        "from google.colab import auth\n",
        "from oauth2client.client import GoogleCredentials\n",
        "auth.authenticate_user()\n",
        "gauth = GoogleAuth()\n",
        "gauth.credentials = GoogleCredentials.get_application_default()\n",
        "drive = GoogleDrive(gauth)\n",
        "import cv2\n",
        "import dlib \n",
        "import os \n",
        "import scipy.misc\n",
        "import numpy as np\n",
        "from tqdm import tqdm \n",
        "import pickle\n",
        "import random\n",
        "%matplotlib inline\n",
        "import torch\n",
        "import torch.nn as nn\n",
        "import pandas as pd\n",
        "import numpy as np\n",
        "from torchvision import transforms\n",
        "import torch.utils.data\n",
        "from torch.utils.data import Dataset, DataLoader\n",
        "from PIL import Image\n",
        "from torch import autograd\n",
        "from torch.autograd import Variable\n",
        "from torchvision.utils import make_grid\n",
        "import matplotlib.pyplot as plt\n"
      ],
      "execution_count": 0,
      "outputs": []
    },
    {
      "cell_type": "code",
      "metadata": {
        "id": "nUAZhmMq3J1P",
        "colab_type": "code",
        "outputId": "6bb505ab-18f9-4f90-8999-1d6ccebc2b0a",
        "colab": {
          "base_uri": "https://localhost:8080/",
          "height": 425
        }
      },
      "source": [
        "#Generator component for conditional GAN - takes in face embedding and age condition as input\n",
        "#Produces a 64x64 grayscale image\n",
        "class Generator(nn.Module):\n",
        "    def __init__(self):\n",
        "        super().__init__()\n",
        "        #Encode condition into a 1024 vector before feeding into convolutoion layers\n",
        "        self.encoding = nn.Sequential(nn.Linear(128+24, 512),\n",
        "            nn.ReLU(True),\n",
        "            nn.Linear(512, 1024),\n",
        "            nn.ReLU(True))\n",
        "        self.model = nn.Sequential( \n",
        "            nn.ConvTranspose2d(1024, 64*8, 4, 1, 0, bias=False),\n",
        "            nn.BatchNorm2d(64* 8),\n",
        "            nn.ReLU(True),\n",
        "            nn.ConvTranspose2d(64* 8, 64 * 4, 4, 2, 1, bias=False),\n",
        "            nn.BatchNorm2d(64 * 4),\n",
        "            nn.ReLU(True),\n",
        "            nn.ConvTranspose2d( 64 * 4, 64 * 2, 4, 2, 1, bias=False),\n",
        "            nn.BatchNorm2d(64* 2),\n",
        "            nn.ReLU(True),\n",
        "            nn.ConvTranspose2d( 64 * 2, 64, 4, 2, 1, bias=False),\n",
        "            nn.BatchNorm2d(64),\n",
        "            nn.ReLU(True),\n",
        "            nn.ConvTranspose2d( 64, 1, 4, 2, 1, bias=False),\n",
        "            nn.Tanh()\n",
        "        )\n",
        "    \n",
        "    def forward(self, z, labels):\n",
        "        z = z.view(z.size(0), 128).float() #size - batchsize x 128\n",
        "        c = labels.view(labels.size(0),24).float() #size - batchsize x 24\n",
        "        x = torch.cat([z, c], 1)\n",
        "        x= x.view(x.size(0), 152) #after concat - batchsize x (128+24)\n",
        "        x = self.encoding(x.float()) #Encode condition before convolution model\n",
        "        x = x.view(x.size(0), 1024, 1,1)\n",
        "        out = self.model(x.float())\n",
        "        \n",
        "        return out\n",
        "\n",
        "generator = Generator().cuda()       \n",
        "#Generator model and weights\n",
        "downloaded = drive.CreateFile({'id':\"1ybC6ZIl1oJTArfKPyfIA1F76GfOlz9DH\"})   \n",
        "downloaded.GetContentFile('generator.pt')\n",
        "\n",
        "generator.load_state_dict(torch.load(\"generator.pt\"))\n",
        "generator.eval()"
      ],
      "execution_count": 0,
      "outputs": [
        {
          "output_type": "execute_result",
          "data": {
            "text/plain": [
              "Generator(\n",
              "  (encoding): Sequential(\n",
              "    (0): Linear(in_features=152, out_features=512, bias=True)\n",
              "    (1): ReLU(inplace=True)\n",
              "    (2): Linear(in_features=512, out_features=1024, bias=True)\n",
              "    (3): ReLU(inplace=True)\n",
              "  )\n",
              "  (model): Sequential(\n",
              "    (0): ConvTranspose2d(1024, 512, kernel_size=(4, 4), stride=(1, 1), bias=False)\n",
              "    (1): BatchNorm2d(512, eps=1e-05, momentum=0.1, affine=True, track_running_stats=True)\n",
              "    (2): ReLU(inplace=True)\n",
              "    (3): ConvTranspose2d(512, 256, kernel_size=(4, 4), stride=(2, 2), padding=(1, 1), bias=False)\n",
              "    (4): BatchNorm2d(256, eps=1e-05, momentum=0.1, affine=True, track_running_stats=True)\n",
              "    (5): ReLU(inplace=True)\n",
              "    (6): ConvTranspose2d(256, 128, kernel_size=(4, 4), stride=(2, 2), padding=(1, 1), bias=False)\n",
              "    (7): BatchNorm2d(128, eps=1e-05, momentum=0.1, affine=True, track_running_stats=True)\n",
              "    (8): ReLU(inplace=True)\n",
              "    (9): ConvTranspose2d(128, 64, kernel_size=(4, 4), stride=(2, 2), padding=(1, 1), bias=False)\n",
              "    (10): BatchNorm2d(64, eps=1e-05, momentum=0.1, affine=True, track_running_stats=True)\n",
              "    (11): ReLU(inplace=True)\n",
              "    (12): ConvTranspose2d(64, 1, kernel_size=(4, 4), stride=(2, 2), padding=(1, 1), bias=False)\n",
              "    (13): Tanh()\n",
              "  )\n",
              ")"
            ]
          },
          "metadata": {
            "tags": []
          },
          "execution_count": 2
        }
      ]
    },
    {
      "cell_type": "code",
      "metadata": {
        "id": "7EyMXOMi4dWV",
        "colab_type": "code",
        "outputId": "9ce8b4ad-aa09-412d-ebf5-2f695b49e3dc",
        "colab": {
          "base_uri": "https://localhost:8080/",
          "height": 51
        }
      },
      "source": [
        "#Face recognition model to obtain embeddings from every face in dataset\n",
        "downloaded = drive.CreateFile({'id':\"1XLHHUD3qMEk2i8SEVoIOvgR3cDQCeR1q\"})   \n",
        "downloaded.GetContentFile('dlib_face_recognition_resnet_model_v1.dat.bz2')\n",
        "# Landmark generator from dlib to identify facial landmarks\n",
        "# Facial Landmarks are used by the dlib face recognition model\n",
        "downloaded = drive.CreateFile({'id':\"1Q7Bj4YRpIXU2WF5zrUbJe3AazUGi0lCt\"})   \n",
        "downloaded.GetContentFile('shape_predictor_68_face_landmarks.dat.bz2')\n",
        "#Extract these for use \n",
        "!bzip2 dlib_face_recognition_resnet_model_v1.dat.bz2 --decompress\n",
        "!bzip2 shape_predictor_68_face_landmarks.dat.bz2 --decompress\n",
        "\n",
        "def get_dlib_embeddings(image):\n",
        "    '''\n",
        "    Takes in image, (grayscale)\n",
        "    returns 128 dimension facial embedding using the dlib face recognition model\n",
        "    '''\n",
        "    \n",
        "    face_detector = dlib.get_frontal_face_detector()\n",
        "    shape_predictor = dlib.shape_predictor('shape_predictor_68_face_landmarks.dat')\n",
        "    face_recognition_model = dlib.face_recognition_model_v1('dlib_face_recognition_resnet_model_v1.dat')\n",
        "    \n",
        "    #Detect face position\n",
        "    detected_faces = face_detector(image, 1)\n",
        "    #Extract landmarks for every face detected - in this case, only one face is present\n",
        "    shapes_faces = [shape_predictor(image, face) for face in detected_faces]\n",
        "    #Return embedding of the face using face recognition model\n",
        "    return [np.array(face_recognition_model.compute_face_descriptor(image, face_pose, 1)) for face_pose in shapes_faces]\n",
        "\n",
        "def convert_age(age):\n",
        "    onehot = [0]*24\n",
        "    onehot[age//5]=1\n",
        "    return onehot\n",
        "\n",
        "def preprocess_image(imagepath):\n",
        "  image = cv2.imread(imagepath)\n",
        "  image = cv2.resize(image, (64,64))\n",
        "  return image\n",
        "\n"
      ],
      "execution_count": 0,
      "outputs": [
        {
          "output_type": "stream",
          "text": [
            "bzip2: Output file dlib_face_recognition_resnet_model_v1.dat already exists.\n",
            "bzip2: Output file shape_predictor_68_face_landmarks.dat already exists.\n"
          ],
          "name": "stdout"
        }
      ]
    },
    {
      "cell_type": "code",
      "metadata": {
        "id": "ZL8w909s_jyL",
        "colab_type": "code",
        "outputId": "80247f24-14a4-47ec-fb81-9fd8b600c3d4",
        "colab": {
          "base_uri": "https://localhost:8080/",
          "height": 587
        }
      },
      "source": [
        "#Upload image to Google Colab and give path to image before running\n",
        "imagepath = input(\"Enter path to image - \")\n",
        "age = input(\"Enter desired age - \")\n",
        "\n",
        "image = preprocess_image(imagepath)\n",
        "plt.imshow(image, cmap=\"gray\")\n",
        "plt.show()\n",
        "age = convert_age(int(age))\n",
        "encodings = get_dlib_embeddings(image)\n",
        "\n",
        "#convert to batch size of 1\n",
        "age = torch.Tensor(np.asarray([age])).cuda()\n",
        "encodings = torch.Tensor(np.asarray([encodings])).cuda()\n",
        "output = generator(encodings, age).unsqueeze(1).data.cpu()\n",
        "output= output.resize(64,64)\n",
        "output = np.asarray(output, dtype=\"float32\")*255\n",
        "plt.imshow(output, cmap=\"gray\")\n",
        "plt.show()"
      ],
      "execution_count": 0,
      "outputs": [
        {
          "output_type": "stream",
          "text": [
            "Enter path to image - age80-real.png\n",
            "Enter desired age - 24\n"
          ],
          "name": "stdout"
        },
        {
          "output_type": "display_data",
          "data": {
            "image/png": "[encoded data removed]",
            "text/plain": [
              "<Figure size 432x288 with 1 Axes>"
            ]
          },
          "metadata": {
            "tags": [],
            "needs_background": "light"
          }
        },
        {
          "output_type": "stream",
          "text": [
            "/usr/local/lib/python3.6/dist-packages/torch/tensor.py:362: UserWarning: non-inplace resize is deprecated\n",
            "  warnings.warn(\"non-inplace resize is deprecated\")\n"
          ],
          "name": "stderr"
        },
        {
          "output_type": "display_data",
          "data": {
            "image/png": "[encoded data removed]",
            "text/plain": [
              "<Figure size 432x288 with 1 Axes>"
            ]
          },
          "metadata": {
            "tags": [],
            "needs_background": "light"
          }
        }
      ]
    },
    {
      "cell_type": "code",
      "metadata": {
        "id": "6wHz1xUa_32n",
        "colab_type": "code",
        "colab": {}
      },
      "source": [
        ""
      ],
      "execution_count": 0,
      "outputs": []
    }
  ]
}